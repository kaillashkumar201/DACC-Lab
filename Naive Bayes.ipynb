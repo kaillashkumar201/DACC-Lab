{
 "cells": [
  {
   "cell_type": "code",
   "execution_count": 1,
   "id": "010802bc",
   "metadata": {},
   "outputs": [],
   "source": [
    "import warnings\n",
    "warnings.filterwarnings('ignore')\n",
    "import numpy as np\n",
    "import pandas as pd"
   ]
  },
  {
   "cell_type": "code",
   "execution_count": 2,
   "id": "0b2b0a7f",
   "metadata": {},
   "outputs": [],
   "source": [
    "data= pd.read_csv(\"aug_train.csv\")"
   ]
  },
  {
   "cell_type": "code",
   "execution_count": 3,
   "id": "4eb08bda",
   "metadata": {},
   "outputs": [],
   "source": [
    "data.drop(['enrollee_id','company_size'], axis= 1, inplace= True)"
   ]
  },
  {
   "cell_type": "code",
   "execution_count": 4,
   "id": "8f76dd56",
   "metadata": {},
   "outputs": [],
   "source": [
    "data['city']= data['city'].apply(lambda c: int(c[5:]))"
   ]
  },
  {
   "cell_type": "code",
   "execution_count": 5,
   "id": "18f52049",
   "metadata": {},
   "outputs": [
    {
     "name": "stdout",
     "output_type": "stream",
     "text": [
      "<class 'pandas.core.frame.DataFrame'>\n",
      "RangeIndex: 19158 entries, 0 to 19157\n",
      "Data columns (total 12 columns):\n",
      " #   Column                  Non-Null Count  Dtype  \n",
      "---  ------                  --------------  -----  \n",
      " 0   city                    19158 non-null  int64  \n",
      " 1   city_development_index  19158 non-null  float64\n",
      " 2   gender                  14650 non-null  object \n",
      " 3   relevent_experience     19158 non-null  object \n",
      " 4   enrolled_university     18772 non-null  object \n",
      " 5   education_level         18698 non-null  object \n",
      " 6   major_discipline        16345 non-null  object \n",
      " 7   experience              19093 non-null  object \n",
      " 8   company_type            13018 non-null  object \n",
      " 9   last_new_job            18735 non-null  object \n",
      " 10  training_hours          19158 non-null  int64  \n",
      " 11  target                  19158 non-null  float64\n",
      "dtypes: float64(2), int64(2), object(8)\n",
      "memory usage: 1.8+ MB\n"
     ]
    }
   ],
   "source": [
    "data.info()"
   ]
  },
  {
   "cell_type": "code",
   "execution_count": 6,
   "id": "a2251597",
   "metadata": {},
   "outputs": [
    {
     "name": "stdout",
     "output_type": "stream",
     "text": [
      "Number of numerical variables:  4\n",
      "Numerical attributes:  Index(['city', 'city_development_index', 'training_hours', 'target'], dtype='object')\n"
     ]
    }
   ],
   "source": [
    "numeric_data = data.select_dtypes(include=[np.number])\n",
    "categorical_data = data.select_dtypes(exclude=[np.number])\n",
    "print(\"Number of numerical variables: \", numeric_data.shape[1])\n",
    "print(\"Numerical attributes: \", numeric_data.columns)"
   ]
  },
  {
   "cell_type": "code",
   "execution_count": 7,
   "id": "2febd963",
   "metadata": {},
   "outputs": [
    {
     "name": "stdout",
     "output_type": "stream",
     "text": [
      "Number of categorical variables:  8\n",
      "Categorical attributes: \n",
      "Index(['gender', 'relevent_experience', 'enrolled_university',\n",
      "       'education_level', 'major_discipline', 'experience', 'company_type',\n",
      "       'last_new_job'],\n",
      "      dtype='object')\n"
     ]
    }
   ],
   "source": [
    "print(\"Number of categorical variables: \", categorical_data.shape[1])\n",
    "print(\"Categorical attributes: \")\n",
    "print(categorical_data.columns)"
   ]
  },
  {
   "cell_type": "code",
   "execution_count": 8,
   "id": "c21258c4",
   "metadata": {},
   "outputs": [],
   "source": [
    "data.dropna(inplace= True)"
   ]
  },
  {
   "cell_type": "code",
   "execution_count": 9,
   "id": "12cefe25",
   "metadata": {},
   "outputs": [],
   "source": [
    "data['gender'].replace({'Male': 0, 'Female': 1, 'Other': 2}, inplace= True)"
   ]
  },
  {
   "cell_type": "code",
   "execution_count": 10,
   "id": "0b6061e9",
   "metadata": {},
   "outputs": [],
   "source": [
    "data['relevent_experience'].replace({'No relevent experience': 0, 'Has relevent experience': 1}, inplace= True)"
   ]
  },
  {
   "cell_type": "code",
   "execution_count": 11,
   "id": "9c217827",
   "metadata": {},
   "outputs": [],
   "source": [
    "data['enrolled_university'].replace({'no_enrollment': 0, 'Part time course': 1, 'Full time course': 2}, inplace= True)"
   ]
  },
  {
   "cell_type": "code",
   "execution_count": 12,
   "id": "bdc08cb7",
   "metadata": {},
   "outputs": [],
   "source": [
    "data['education_level'].replace({'Graduate': 0, 'Masters': 1, 'Phd': 2}, inplace= True)"
   ]
  },
  {
   "cell_type": "code",
   "execution_count": 13,
   "id": "5db6b9ae",
   "metadata": {},
   "outputs": [],
   "source": [
    "data['major_discipline'].replace({'STEM': 0, 'Humanities': 1, 'Business Degree': 2, 'Other': 3, 'No Major': 4, 'Arts': 5}, inplace= True)"
   ]
  },
  {
   "cell_type": "code",
   "execution_count": 14,
   "id": "7c1f1008",
   "metadata": {},
   "outputs": [],
   "source": [
    "data['experience'].replace({'>20': '21', '<1': '0'}, inplace= True)\n",
    "data['experience']= pd.to_numeric(data['experience'])"
   ]
  },
  {
   "cell_type": "code",
   "execution_count": 15,
   "id": "13eedcbb",
   "metadata": {},
   "outputs": [],
   "source": [
    "data['company_type'].replace({'Pvt Ltd': 0, 'Funded Startup': 1, 'Early Stage Startup': 2, 'Public Sector': 3, 'NGO': 4, 'Other': 5}, inplace= True)"
   ]
  },
  {
   "cell_type": "code",
   "execution_count": 16,
   "id": "dfc974f8",
   "metadata": {},
   "outputs": [],
   "source": [
    "data['last_new_job'].replace({'>4': '5', 'never': '0'}, inplace= True)\n",
    "data['last_new_job']= pd.to_numeric(data['last_new_job'])"
   ]
  },
  {
   "cell_type": "code",
   "execution_count": 17,
   "id": "2277024f",
   "metadata": {},
   "outputs": [
    {
     "data": {
      "text/html": [
       "<div>\n",
       "<style scoped>\n",
       "    .dataframe tbody tr th:only-of-type {\n",
       "        vertical-align: middle;\n",
       "    }\n",
       "\n",
       "    .dataframe tbody tr th {\n",
       "        vertical-align: top;\n",
       "    }\n",
       "\n",
       "    .dataframe thead th {\n",
       "        text-align: right;\n",
       "    }\n",
       "</style>\n",
       "<table border=\"1\" class=\"dataframe\">\n",
       "  <thead>\n",
       "    <tr style=\"text-align: right;\">\n",
       "      <th></th>\n",
       "      <th>city</th>\n",
       "      <th>city_development_index</th>\n",
       "      <th>gender</th>\n",
       "      <th>relevent_experience</th>\n",
       "      <th>enrolled_university</th>\n",
       "      <th>education_level</th>\n",
       "      <th>major_discipline</th>\n",
       "      <th>experience</th>\n",
       "      <th>company_type</th>\n",
       "      <th>last_new_job</th>\n",
       "      <th>training_hours</th>\n",
       "      <th>target</th>\n",
       "    </tr>\n",
       "  </thead>\n",
       "  <tbody>\n",
       "    <tr>\n",
       "      <th>1</th>\n",
       "      <td>40</td>\n",
       "      <td>0.776</td>\n",
       "      <td>0</td>\n",
       "      <td>0</td>\n",
       "      <td>0</td>\n",
       "      <td>0</td>\n",
       "      <td>0</td>\n",
       "      <td>15</td>\n",
       "      <td>0</td>\n",
       "      <td>5</td>\n",
       "      <td>47</td>\n",
       "      <td>0.0</td>\n",
       "    </tr>\n",
       "    <tr>\n",
       "      <th>4</th>\n",
       "      <td>162</td>\n",
       "      <td>0.767</td>\n",
       "      <td>0</td>\n",
       "      <td>1</td>\n",
       "      <td>0</td>\n",
       "      <td>1</td>\n",
       "      <td>0</td>\n",
       "      <td>21</td>\n",
       "      <td>1</td>\n",
       "      <td>4</td>\n",
       "      <td>8</td>\n",
       "      <td>0.0</td>\n",
       "    </tr>\n",
       "    <tr>\n",
       "      <th>7</th>\n",
       "      <td>46</td>\n",
       "      <td>0.762</td>\n",
       "      <td>0</td>\n",
       "      <td>1</td>\n",
       "      <td>0</td>\n",
       "      <td>0</td>\n",
       "      <td>0</td>\n",
       "      <td>13</td>\n",
       "      <td>0</td>\n",
       "      <td>5</td>\n",
       "      <td>18</td>\n",
       "      <td>1.0</td>\n",
       "    </tr>\n",
       "    <tr>\n",
       "      <th>8</th>\n",
       "      <td>103</td>\n",
       "      <td>0.920</td>\n",
       "      <td>0</td>\n",
       "      <td>1</td>\n",
       "      <td>0</td>\n",
       "      <td>0</td>\n",
       "      <td>0</td>\n",
       "      <td>7</td>\n",
       "      <td>0</td>\n",
       "      <td>1</td>\n",
       "      <td>46</td>\n",
       "      <td>1.0</td>\n",
       "    </tr>\n",
       "    <tr>\n",
       "      <th>11</th>\n",
       "      <td>103</td>\n",
       "      <td>0.920</td>\n",
       "      <td>0</td>\n",
       "      <td>1</td>\n",
       "      <td>0</td>\n",
       "      <td>0</td>\n",
       "      <td>0</td>\n",
       "      <td>5</td>\n",
       "      <td>0</td>\n",
       "      <td>1</td>\n",
       "      <td>108</td>\n",
       "      <td>0.0</td>\n",
       "    </tr>\n",
       "    <tr>\n",
       "      <th>...</th>\n",
       "      <td>...</td>\n",
       "      <td>...</td>\n",
       "      <td>...</td>\n",
       "      <td>...</td>\n",
       "      <td>...</td>\n",
       "      <td>...</td>\n",
       "      <td>...</td>\n",
       "      <td>...</td>\n",
       "      <td>...</td>\n",
       "      <td>...</td>\n",
       "      <td>...</td>\n",
       "      <td>...</td>\n",
       "    </tr>\n",
       "    <tr>\n",
       "      <th>19147</th>\n",
       "      <td>21</td>\n",
       "      <td>0.624</td>\n",
       "      <td>0</td>\n",
       "      <td>0</td>\n",
       "      <td>2</td>\n",
       "      <td>0</td>\n",
       "      <td>0</td>\n",
       "      <td>1</td>\n",
       "      <td>0</td>\n",
       "      <td>1</td>\n",
       "      <td>52</td>\n",
       "      <td>1.0</td>\n",
       "    </tr>\n",
       "    <tr>\n",
       "      <th>19149</th>\n",
       "      <td>103</td>\n",
       "      <td>0.920</td>\n",
       "      <td>0</td>\n",
       "      <td>1</td>\n",
       "      <td>0</td>\n",
       "      <td>1</td>\n",
       "      <td>0</td>\n",
       "      <td>9</td>\n",
       "      <td>0</td>\n",
       "      <td>1</td>\n",
       "      <td>36</td>\n",
       "      <td>1.0</td>\n",
       "    </tr>\n",
       "    <tr>\n",
       "      <th>19150</th>\n",
       "      <td>160</td>\n",
       "      <td>0.920</td>\n",
       "      <td>1</td>\n",
       "      <td>1</td>\n",
       "      <td>0</td>\n",
       "      <td>0</td>\n",
       "      <td>0</td>\n",
       "      <td>10</td>\n",
       "      <td>3</td>\n",
       "      <td>3</td>\n",
       "      <td>23</td>\n",
       "      <td>0.0</td>\n",
       "    </tr>\n",
       "    <tr>\n",
       "      <th>19152</th>\n",
       "      <td>103</td>\n",
       "      <td>0.920</td>\n",
       "      <td>1</td>\n",
       "      <td>1</td>\n",
       "      <td>0</td>\n",
       "      <td>0</td>\n",
       "      <td>1</td>\n",
       "      <td>7</td>\n",
       "      <td>1</td>\n",
       "      <td>1</td>\n",
       "      <td>25</td>\n",
       "      <td>0.0</td>\n",
       "    </tr>\n",
       "    <tr>\n",
       "      <th>19155</th>\n",
       "      <td>103</td>\n",
       "      <td>0.920</td>\n",
       "      <td>0</td>\n",
       "      <td>1</td>\n",
       "      <td>0</td>\n",
       "      <td>0</td>\n",
       "      <td>0</td>\n",
       "      <td>21</td>\n",
       "      <td>0</td>\n",
       "      <td>4</td>\n",
       "      <td>44</td>\n",
       "      <td>0.0</td>\n",
       "    </tr>\n",
       "  </tbody>\n",
       "</table>\n",
       "<p>9238 rows × 12 columns</p>\n",
       "</div>"
      ],
      "text/plain": [
       "       city  city_development_index  gender  relevent_experience  \\\n",
       "1        40                   0.776       0                    0   \n",
       "4       162                   0.767       0                    1   \n",
       "7        46                   0.762       0                    1   \n",
       "8       103                   0.920       0                    1   \n",
       "11      103                   0.920       0                    1   \n",
       "...     ...                     ...     ...                  ...   \n",
       "19147    21                   0.624       0                    0   \n",
       "19149   103                   0.920       0                    1   \n",
       "19150   160                   0.920       1                    1   \n",
       "19152   103                   0.920       1                    1   \n",
       "19155   103                   0.920       0                    1   \n",
       "\n",
       "       enrolled_university  education_level  major_discipline  experience  \\\n",
       "1                        0                0                 0          15   \n",
       "4                        0                1                 0          21   \n",
       "7                        0                0                 0          13   \n",
       "8                        0                0                 0           7   \n",
       "11                       0                0                 0           5   \n",
       "...                    ...              ...               ...         ...   \n",
       "19147                    2                0                 0           1   \n",
       "19149                    0                1                 0           9   \n",
       "19150                    0                0                 0          10   \n",
       "19152                    0                0                 1           7   \n",
       "19155                    0                0                 0          21   \n",
       "\n",
       "       company_type  last_new_job  training_hours  target  \n",
       "1                 0             5              47     0.0  \n",
       "4                 1             4               8     0.0  \n",
       "7                 0             5              18     1.0  \n",
       "8                 0             1              46     1.0  \n",
       "11                0             1             108     0.0  \n",
       "...             ...           ...             ...     ...  \n",
       "19147             0             1              52     1.0  \n",
       "19149             0             1              36     1.0  \n",
       "19150             3             3              23     0.0  \n",
       "19152             1             1              25     0.0  \n",
       "19155             0             4              44     0.0  \n",
       "\n",
       "[9238 rows x 12 columns]"
      ]
     },
     "execution_count": 17,
     "metadata": {},
     "output_type": "execute_result"
    }
   ],
   "source": [
    "data"
   ]
  },
  {
   "cell_type": "code",
   "execution_count": 18,
   "id": "385126f6",
   "metadata": {},
   "outputs": [
    {
     "name": "stdout",
     "output_type": "stream",
     "text": [
      "<class 'pandas.core.frame.DataFrame'>\n",
      "RangeIndex: 9238 entries, 0 to 9237\n",
      "Data columns (total 12 columns):\n",
      " #   Column                  Non-Null Count  Dtype  \n",
      "---  ------                  --------------  -----  \n",
      " 0   city                    9238 non-null   float64\n",
      " 1   city_development_index  9238 non-null   float64\n",
      " 2   gender                  9238 non-null   float64\n",
      " 3   relevent_experience     9238 non-null   float64\n",
      " 4   enrolled_university     9238 non-null   float64\n",
      " 5   education_level         9238 non-null   float64\n",
      " 6   major_discipline        9238 non-null   float64\n",
      " 7   experience              9238 non-null   float64\n",
      " 8   company_type            9238 non-null   float64\n",
      " 9   last_new_job            9238 non-null   float64\n",
      " 10  training_hours          9238 non-null   float64\n",
      " 11  target                  9238 non-null   float64\n",
      "dtypes: float64(12)\n",
      "memory usage: 866.2 KB\n"
     ]
    }
   ],
   "source": [
    "from sklearn import preprocessing\n",
    "#Feature scaling - min max scaling\n",
    "from sklearn.preprocessing import MinMaxScaler\n",
    "scaler = MinMaxScaler()\n",
    "scaled = scaler.fit_transform(data)\n",
    "encD = pd.DataFrame(scaled, columns=data.columns)\n",
    "encD.info()"
   ]
  },
  {
   "cell_type": "code",
   "execution_count": 19,
   "id": "7a2ce0d8",
   "metadata": {},
   "outputs": [
    {
     "data": {
      "text/html": [
       "<div>\n",
       "<style scoped>\n",
       "    .dataframe tbody tr th:only-of-type {\n",
       "        vertical-align: middle;\n",
       "    }\n",
       "\n",
       "    .dataframe tbody tr th {\n",
       "        vertical-align: top;\n",
       "    }\n",
       "\n",
       "    .dataframe thead th {\n",
       "        text-align: right;\n",
       "    }\n",
       "</style>\n",
       "<table border=\"1\" class=\"dataframe\">\n",
       "  <thead>\n",
       "    <tr style=\"text-align: right;\">\n",
       "      <th></th>\n",
       "      <th>city</th>\n",
       "      <th>city_development_index</th>\n",
       "      <th>gender</th>\n",
       "      <th>relevent_experience</th>\n",
       "      <th>enrolled_university</th>\n",
       "      <th>education_level</th>\n",
       "      <th>major_discipline</th>\n",
       "      <th>experience</th>\n",
       "      <th>company_type</th>\n",
       "      <th>last_new_job</th>\n",
       "      <th>training_hours</th>\n",
       "      <th>target</th>\n",
       "    </tr>\n",
       "  </thead>\n",
       "  <tbody>\n",
       "    <tr>\n",
       "      <th>0</th>\n",
       "      <td>0.219101</td>\n",
       "      <td>0.654691</td>\n",
       "      <td>0.0</td>\n",
       "      <td>0.0</td>\n",
       "      <td>0.0</td>\n",
       "      <td>0.0</td>\n",
       "      <td>0.0</td>\n",
       "      <td>0.714286</td>\n",
       "      <td>0.0</td>\n",
       "      <td>1.0</td>\n",
       "      <td>0.137313</td>\n",
       "      <td>0.0</td>\n",
       "    </tr>\n",
       "    <tr>\n",
       "      <th>1</th>\n",
       "      <td>0.904494</td>\n",
       "      <td>0.636727</td>\n",
       "      <td>0.0</td>\n",
       "      <td>1.0</td>\n",
       "      <td>0.0</td>\n",
       "      <td>0.5</td>\n",
       "      <td>0.0</td>\n",
       "      <td>1.000000</td>\n",
       "      <td>0.2</td>\n",
       "      <td>0.8</td>\n",
       "      <td>0.020896</td>\n",
       "      <td>0.0</td>\n",
       "    </tr>\n",
       "    <tr>\n",
       "      <th>2</th>\n",
       "      <td>0.252809</td>\n",
       "      <td>0.626747</td>\n",
       "      <td>0.0</td>\n",
       "      <td>1.0</td>\n",
       "      <td>0.0</td>\n",
       "      <td>0.0</td>\n",
       "      <td>0.0</td>\n",
       "      <td>0.619048</td>\n",
       "      <td>0.0</td>\n",
       "      <td>1.0</td>\n",
       "      <td>0.050746</td>\n",
       "      <td>1.0</td>\n",
       "    </tr>\n",
       "    <tr>\n",
       "      <th>3</th>\n",
       "      <td>0.573034</td>\n",
       "      <td>0.942116</td>\n",
       "      <td>0.0</td>\n",
       "      <td>1.0</td>\n",
       "      <td>0.0</td>\n",
       "      <td>0.0</td>\n",
       "      <td>0.0</td>\n",
       "      <td>0.333333</td>\n",
       "      <td>0.0</td>\n",
       "      <td>0.2</td>\n",
       "      <td>0.134328</td>\n",
       "      <td>1.0</td>\n",
       "    </tr>\n",
       "    <tr>\n",
       "      <th>4</th>\n",
       "      <td>0.573034</td>\n",
       "      <td>0.942116</td>\n",
       "      <td>0.0</td>\n",
       "      <td>1.0</td>\n",
       "      <td>0.0</td>\n",
       "      <td>0.0</td>\n",
       "      <td>0.0</td>\n",
       "      <td>0.238095</td>\n",
       "      <td>0.0</td>\n",
       "      <td>0.2</td>\n",
       "      <td>0.319403</td>\n",
       "      <td>0.0</td>\n",
       "    </tr>\n",
       "    <tr>\n",
       "      <th>...</th>\n",
       "      <td>...</td>\n",
       "      <td>...</td>\n",
       "      <td>...</td>\n",
       "      <td>...</td>\n",
       "      <td>...</td>\n",
       "      <td>...</td>\n",
       "      <td>...</td>\n",
       "      <td>...</td>\n",
       "      <td>...</td>\n",
       "      <td>...</td>\n",
       "      <td>...</td>\n",
       "      <td>...</td>\n",
       "    </tr>\n",
       "    <tr>\n",
       "      <th>9233</th>\n",
       "      <td>0.112360</td>\n",
       "      <td>0.351297</td>\n",
       "      <td>0.0</td>\n",
       "      <td>0.0</td>\n",
       "      <td>1.0</td>\n",
       "      <td>0.0</td>\n",
       "      <td>0.0</td>\n",
       "      <td>0.047619</td>\n",
       "      <td>0.0</td>\n",
       "      <td>0.2</td>\n",
       "      <td>0.152239</td>\n",
       "      <td>1.0</td>\n",
       "    </tr>\n",
       "    <tr>\n",
       "      <th>9234</th>\n",
       "      <td>0.573034</td>\n",
       "      <td>0.942116</td>\n",
       "      <td>0.0</td>\n",
       "      <td>1.0</td>\n",
       "      <td>0.0</td>\n",
       "      <td>0.5</td>\n",
       "      <td>0.0</td>\n",
       "      <td>0.428571</td>\n",
       "      <td>0.0</td>\n",
       "      <td>0.2</td>\n",
       "      <td>0.104478</td>\n",
       "      <td>1.0</td>\n",
       "    </tr>\n",
       "    <tr>\n",
       "      <th>9235</th>\n",
       "      <td>0.893258</td>\n",
       "      <td>0.942116</td>\n",
       "      <td>0.5</td>\n",
       "      <td>1.0</td>\n",
       "      <td>0.0</td>\n",
       "      <td>0.0</td>\n",
       "      <td>0.0</td>\n",
       "      <td>0.476190</td>\n",
       "      <td>0.6</td>\n",
       "      <td>0.6</td>\n",
       "      <td>0.065672</td>\n",
       "      <td>0.0</td>\n",
       "    </tr>\n",
       "    <tr>\n",
       "      <th>9236</th>\n",
       "      <td>0.573034</td>\n",
       "      <td>0.942116</td>\n",
       "      <td>0.5</td>\n",
       "      <td>1.0</td>\n",
       "      <td>0.0</td>\n",
       "      <td>0.0</td>\n",
       "      <td>0.2</td>\n",
       "      <td>0.333333</td>\n",
       "      <td>0.2</td>\n",
       "      <td>0.2</td>\n",
       "      <td>0.071642</td>\n",
       "      <td>0.0</td>\n",
       "    </tr>\n",
       "    <tr>\n",
       "      <th>9237</th>\n",
       "      <td>0.573034</td>\n",
       "      <td>0.942116</td>\n",
       "      <td>0.0</td>\n",
       "      <td>1.0</td>\n",
       "      <td>0.0</td>\n",
       "      <td>0.0</td>\n",
       "      <td>0.0</td>\n",
       "      <td>1.000000</td>\n",
       "      <td>0.0</td>\n",
       "      <td>0.8</td>\n",
       "      <td>0.128358</td>\n",
       "      <td>0.0</td>\n",
       "    </tr>\n",
       "  </tbody>\n",
       "</table>\n",
       "<p>9238 rows × 12 columns</p>\n",
       "</div>"
      ],
      "text/plain": [
       "          city  city_development_index  gender  relevent_experience  \\\n",
       "0     0.219101                0.654691     0.0                  0.0   \n",
       "1     0.904494                0.636727     0.0                  1.0   \n",
       "2     0.252809                0.626747     0.0                  1.0   \n",
       "3     0.573034                0.942116     0.0                  1.0   \n",
       "4     0.573034                0.942116     0.0                  1.0   \n",
       "...        ...                     ...     ...                  ...   \n",
       "9233  0.112360                0.351297     0.0                  0.0   \n",
       "9234  0.573034                0.942116     0.0                  1.0   \n",
       "9235  0.893258                0.942116     0.5                  1.0   \n",
       "9236  0.573034                0.942116     0.5                  1.0   \n",
       "9237  0.573034                0.942116     0.0                  1.0   \n",
       "\n",
       "      enrolled_university  education_level  major_discipline  experience  \\\n",
       "0                     0.0              0.0               0.0    0.714286   \n",
       "1                     0.0              0.5               0.0    1.000000   \n",
       "2                     0.0              0.0               0.0    0.619048   \n",
       "3                     0.0              0.0               0.0    0.333333   \n",
       "4                     0.0              0.0               0.0    0.238095   \n",
       "...                   ...              ...               ...         ...   \n",
       "9233                  1.0              0.0               0.0    0.047619   \n",
       "9234                  0.0              0.5               0.0    0.428571   \n",
       "9235                  0.0              0.0               0.0    0.476190   \n",
       "9236                  0.0              0.0               0.2    0.333333   \n",
       "9237                  0.0              0.0               0.0    1.000000   \n",
       "\n",
       "      company_type  last_new_job  training_hours  target  \n",
       "0              0.0           1.0        0.137313     0.0  \n",
       "1              0.2           0.8        0.020896     0.0  \n",
       "2              0.0           1.0        0.050746     1.0  \n",
       "3              0.0           0.2        0.134328     1.0  \n",
       "4              0.0           0.2        0.319403     0.0  \n",
       "...            ...           ...             ...     ...  \n",
       "9233           0.0           0.2        0.152239     1.0  \n",
       "9234           0.0           0.2        0.104478     1.0  \n",
       "9235           0.6           0.6        0.065672     0.0  \n",
       "9236           0.2           0.2        0.071642     0.0  \n",
       "9237           0.0           0.8        0.128358     0.0  \n",
       "\n",
       "[9238 rows x 12 columns]"
      ]
     },
     "execution_count": 19,
     "metadata": {},
     "output_type": "execute_result"
    }
   ],
   "source": [
    "encD"
   ]
  },
  {
   "cell_type": "code",
   "execution_count": 20,
   "id": "04b388cf",
   "metadata": {},
   "outputs": [
    {
     "name": "stdout",
     "output_type": "stream",
     "text": [
      "<class 'pandas.core.frame.DataFrame'>\n",
      "Int64Index: 9238 entries, 1 to 19155\n",
      "Data columns (total 12 columns):\n",
      " #   Column                  Non-Null Count  Dtype  \n",
      "---  ------                  --------------  -----  \n",
      " 0   city                    9238 non-null   int64  \n",
      " 1   city_development_index  9238 non-null   float64\n",
      " 2   gender                  9238 non-null   int64  \n",
      " 3   relevent_experience     9238 non-null   int64  \n",
      " 4   enrolled_university     9238 non-null   int64  \n",
      " 5   education_level         9238 non-null   int64  \n",
      " 6   major_discipline        9238 non-null   int64  \n",
      " 7   experience              9238 non-null   int64  \n",
      " 8   company_type            9238 non-null   int64  \n",
      " 9   last_new_job            9238 non-null   int64  \n",
      " 10  training_hours          9238 non-null   int64  \n",
      " 11  target                  9238 non-null   float64\n",
      "dtypes: float64(2), int64(10)\n",
      "memory usage: 938.2 KB\n"
     ]
    }
   ],
   "source": [
    "data.info()"
   ]
  },
  {
   "cell_type": "code",
   "execution_count": 21,
   "id": "a99c2ffb",
   "metadata": {},
   "outputs": [
    {
     "name": "stdout",
     "output_type": "stream",
     "text": [
      "<class 'pandas.core.frame.DataFrame'>\n",
      "RangeIndex: 9238 entries, 0 to 9237\n",
      "Data columns (total 9 columns):\n",
      " #   Column                  Non-Null Count  Dtype  \n",
      "---  ------                  --------------  -----  \n",
      " 0   city_development_index  9238 non-null   float64\n",
      " 1   gender                  9238 non-null   float64\n",
      " 2   relevent_experience     9238 non-null   float64\n",
      " 3   enrolled_university     9238 non-null   float64\n",
      " 4   major_discipline        9238 non-null   float64\n",
      " 5   experience              9238 non-null   float64\n",
      " 6   company_type            9238 non-null   float64\n",
      " 7   last_new_job            9238 non-null   float64\n",
      " 8   training_hours          9238 non-null   float64\n",
      "dtypes: float64(9)\n",
      "memory usage: 649.7 KB\n"
     ]
    }
   ],
   "source": [
    "#Train the Model\n",
    "#Split into input attributes and target\n",
    "cols=['city_development_index', 'gender', 'relevent_experience', 'enrolled_university', 'major_discipline', 'experience', 'company_type', 'last_new_job', 'training_hours']\n",
    "X=encD[cols]\n",
    "y=encD['target']\n",
    "X.info()"
   ]
  },
  {
   "cell_type": "code",
   "execution_count": 22,
   "id": "bf1fd368",
   "metadata": {},
   "outputs": [],
   "source": [
    "#Split into train and test set\n",
    "from sklearn.model_selection import train_test_split \n",
    "X_train, X_test, y_train, y_test = train_test_split(X, y, test_size=0.2, random_state=40) "
   ]
  },
  {
   "cell_type": "code",
   "execution_count": 23,
   "id": "3594a34b",
   "metadata": {},
   "outputs": [
    {
     "data": {
      "text/plain": [
       "GaussianNB()"
      ]
     },
     "execution_count": 23,
     "metadata": {},
     "output_type": "execute_result"
    }
   ],
   "source": [
    "#Train the model\n",
    "from sklearn.naive_bayes import GaussianNB \n",
    "gNBmodel = GaussianNB() \n",
    "gNBmodel.fit(X_train,y_train) "
   ]
  },
  {
   "cell_type": "code",
   "execution_count": 24,
   "id": "204826d3",
   "metadata": {},
   "outputs": [
    {
     "data": {
      "text/plain": [
       "array([0., 0., 0., ..., 1., 0., 1.])"
      ]
     },
     "execution_count": 24,
     "metadata": {},
     "output_type": "execute_result"
    }
   ],
   "source": [
    "y_pred = gNBmodel.predict(X_test)\n",
    "y_pred"
   ]
  },
  {
   "cell_type": "code",
   "execution_count": 25,
   "id": "d771e263",
   "metadata": {},
   "outputs": [
    {
     "name": "stdout",
     "output_type": "stream",
     "text": [
      "Accuracy of Gaussian Naive Bayes on test set: 0.82\n"
     ]
    }
   ],
   "source": [
    "print('Accuracy of Gaussian Naive Bayes on test set: {:.2f}'.format\n",
    "(gNBmodel.score(X_test, y_test))) "
   ]
  },
  {
   "cell_type": "code",
   "execution_count": 26,
   "id": "2359d32b",
   "metadata": {},
   "outputs": [
    {
     "name": "stdout",
     "output_type": "stream",
     "text": [
      "0.189851150202977\n",
      "0.17857142857142858\n"
     ]
    }
   ],
   "source": [
    "from sklearn.metrics import mean_absolute_error\n",
    "y_train_pred = gNBmodel.predict(X_train) \n",
    "mae_train = mean_absolute_error(y_train, y_train_pred) \n",
    "mae_test = mean_absolute_error(y_test, y_pred) \n",
    "print(mae_train) \n",
    "print(mae_test) "
   ]
  },
  {
   "cell_type": "code",
   "execution_count": 27,
   "id": "1a00fbc1",
   "metadata": {},
   "outputs": [
    {
     "name": "stdout",
     "output_type": "stream",
     "text": [
      "Underfitting is present\n"
     ]
    }
   ],
   "source": [
    "if mae_train < mae_test:\n",
    "    print(\"Overfitting is present\")\n",
    "else:\n",
    "    print(\"Underfitting is present\")"
   ]
  },
  {
   "cell_type": "code",
   "execution_count": 28,
   "id": "ac0e96f2",
   "metadata": {},
   "outputs": [
    {
     "data": {
      "text/plain": [
       "array([[1348,  191],\n",
       "       [ 139,  170]])"
      ]
     },
     "execution_count": 28,
     "metadata": {},
     "output_type": "execute_result"
    }
   ],
   "source": [
    "from sklearn.metrics import confusion_matrix\n",
    "confusion_matrix(y_test, y_pred) "
   ]
  },
  {
   "cell_type": "code",
   "execution_count": 29,
   "id": "fc4305bc",
   "metadata": {},
   "outputs": [
    {
     "name": "stdout",
     "output_type": "stream",
     "text": [
      "              precision    recall  f1-score   support\n",
      "\n",
      "         0.0       0.91      0.88      0.89      1539\n",
      "         1.0       0.47      0.55      0.51       309\n",
      "\n",
      "    accuracy                           0.82      1848\n",
      "   macro avg       0.69      0.71      0.70      1848\n",
      "weighted avg       0.83      0.82      0.83      1848\n",
      "\n"
     ]
    }
   ],
   "source": [
    "from sklearn.metrics import classification_report\n",
    "print(classification_report(y_test, y_pred))"
   ]
  },
  {
   "cell_type": "code",
   "execution_count": 30,
   "id": "cf529e12",
   "metadata": {},
   "outputs": [
    {
     "data": {
      "text/plain": [
       "<sklearn.metrics._plot.confusion_matrix.ConfusionMatrixDisplay at 0x7fd5a01ad220>"
      ]
     },
     "execution_count": 30,
     "metadata": {},
     "output_type": "execute_result"
    },
    {
     "data": {
      "image/png": "[encoded data removed]",
      "text/plain": [
       "<Figure size 432x288 with 2 Axes>"
      ]
     },
     "metadata": {
      "needs_background": "light"
     },
     "output_type": "display_data"
    }
   ],
   "source": [
    "#Analyse model performance visually\n",
    "from sklearn.metrics import ConfusionMatrixDisplay\n",
    "cm = confusion_matrix(y_test, y_pred, labels=gNBmodel.classes_)\n",
    "disp = ConfusionMatrixDisplay(confusion_matrix=cm,\n",
    "display_labels=gNBmodel.classes_)\n",
    "disp.plot()"
   ]
  },
  {
   "cell_type": "markdown",
   "id": "79eb3bb3",
   "metadata": {},
   "source": [
    "<b>Multinomial NB</b>"
   ]
  },
  {
   "cell_type": "code",
   "execution_count": 31,
   "id": "ee38a0c3",
   "metadata": {},
   "outputs": [
    {
     "data": {
      "text/plain": [
       "MultinomialNB()"
      ]
     },
     "execution_count": 31,
     "metadata": {},
     "output_type": "execute_result"
    }
   ],
   "source": [
    "#Train the model\n",
    "from sklearn.naive_bayes import MultinomialNB \n",
    "mNBmodel = MultinomialNB() \n",
    "mNBmodel.fit(X_train,y_train) "
   ]
  },
  {
   "cell_type": "code",
   "execution_count": 32,
   "id": "8ff552a5",
   "metadata": {},
   "outputs": [
    {
     "data": {
      "text/plain": [
       "array([0., 0., 0., ..., 0., 0., 0.])"
      ]
     },
     "execution_count": 32,
     "metadata": {},
     "output_type": "execute_result"
    }
   ],
   "source": [
    "y_pred = mNBmodel.predict(X_test)\n",
    "y_pred"
   ]
  },
  {
   "cell_type": "code",
   "execution_count": 33,
   "id": "26e15b02",
   "metadata": {},
   "outputs": [
    {
     "name": "stdout",
     "output_type": "stream",
     "text": [
      "Accuracy of Multinomial Naive Bayes on test set:0.83\n"
     ]
    }
   ],
   "source": [
    "print('Accuracy of Multinomial Naive Bayes on test set:{:.2f}'.format(mNBmodel.score(X_test, y_test))) "
   ]
  },
  {
   "cell_type": "code",
   "execution_count": 34,
   "id": "13d33c22",
   "metadata": {},
   "outputs": [
    {
     "name": "stdout",
     "output_type": "stream",
     "text": [
      "0.17117726657645466\n",
      "0.1672077922077922\n"
     ]
    }
   ],
   "source": [
    "from sklearn.metrics import mean_absolute_error\n",
    "y_train_pred = mNBmodel.predict(X_train) \n",
    "mae_train = mean_absolute_error(y_train, y_train_pred) \n",
    "mae_test = mean_absolute_error(y_test, y_pred) \n",
    "print(mae_train) \n",
    "print(mae_test)"
   ]
  },
  {
   "cell_type": "code",
   "execution_count": 35,
   "id": "3c91ee4f",
   "metadata": {},
   "outputs": [
    {
     "name": "stdout",
     "output_type": "stream",
     "text": [
      "Underfitting is present\n"
     ]
    }
   ],
   "source": [
    "if mae_train < mae_test:\n",
    " print(\"Overfitting is present\") \n",
    "else: \n",
    " print(\"Underfitting is present\") "
   ]
  },
  {
   "cell_type": "code",
   "execution_count": 36,
   "id": "b83e3d1b",
   "metadata": {},
   "outputs": [
    {
     "data": {
      "text/plain": [
       "array([[1539,    0],\n",
       "       [ 309,    0]])"
      ]
     },
     "execution_count": 36,
     "metadata": {},
     "output_type": "execute_result"
    }
   ],
   "source": [
    "from sklearn.metrics import confusion_matrix\n",
    "confusion_matrix(y_test, y_pred)"
   ]
  },
  {
   "cell_type": "code",
   "execution_count": 37,
   "id": "7b711429",
   "metadata": {},
   "outputs": [
    {
     "name": "stdout",
     "output_type": "stream",
     "text": [
      "              precision    recall  f1-score   support\n",
      "\n",
      "         0.0       0.83      1.00      0.91      1539\n",
      "         1.0       0.00      0.00      0.00       309\n",
      "\n",
      "    accuracy                           0.83      1848\n",
      "   macro avg       0.42      0.50      0.45      1848\n",
      "weighted avg       0.69      0.83      0.76      1848\n",
      "\n"
     ]
    }
   ],
   "source": [
    "from sklearn.metrics import classification_report\n",
    "print(classification_report(y_test, y_pred))"
   ]
  }
 ],
 "metadata": {
  "kernelspec": {
   "display_name": "Python 3 (ipykernel)",
   "language": "python",
   "name": "python3"
  },
  "language_info": {
   "codemirror_mode": {
    "name": "ipython",
    "version": 3
   },
   "file_extension": ".py",
   "mimetype": "text/x-python",
   "name": "python",
   "nbconvert_exporter": "python",
   "pygments_lexer": "ipython3",
   "version": "3.9.7"
  }
 },
 "nbformat": 4,
 "nbformat_minor": 5
}
